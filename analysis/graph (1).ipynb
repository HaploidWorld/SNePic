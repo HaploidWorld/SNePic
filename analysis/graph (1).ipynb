{
 "cells": [
  {
   "cell_type": "code",
   "execution_count": 1,
   "id": "fa4814b1",
   "metadata": {},
   "outputs": [],
   "source": [
    "import networkx as nx\n",
    "\n",
    "import pandas as pd\n",
    "\n",
    "from random import sample\n",
    "\n",
    "from collections import defaultdict\n",
    "\n",
    "import matplotlib.pyplot as plt"
   ]
  },
  {
   "cell_type": "code",
   "execution_count": 8,
   "id": "630ab540",
   "metadata": {},
   "outputs": [],
   "source": [
    "def graph_value(vert, v, w, k = 0.5):\n",
    "    s = 0\n",
    "    for el in v:\n",
    "        s += float(w[vert.index(el)][0])\n",
    "    return s - k * len(v)"
   ]
  },
  {
   "cell_type": "code",
   "execution_count": 13,
   "id": "00bfcf85",
   "metadata": {},
   "outputs": [],
   "source": [
    "def best_clique(snps, midesp, vert_weight=1):\n",
    "    dict1 = defaultdict(list)\n",
    "    with open(snps,\"r\") as op:\n",
    "        for line in op:\n",
    "            line = line.strip()\n",
    "            line = line.split()\n",
    "            if '\"CHR\"' not in line:\n",
    "                if float(line[7])>=0:#убираем отрицательные бета\n",
    "                    dict1[line[2][1:-1]].append(line[7])\n",
    "    with open(midesp,\"r\") as op2:\n",
    "        dict2 = defaultdict(list)\n",
    "        for line2 in op2:\n",
    "            line2 = line2.strip()\n",
    "            line2 = line2.split(\"+\")\n",
    "            line22 = line2[1].split(\" \")\n",
    "            if \"SNP1 \" not in line2:\n",
    "                dict2[(line2[0].strip(),line22[1])].append(line22[2])\n",
    "    dict3 = defaultdict(list)\n",
    "    for key2 in dict2:\n",
    "        key20 = key2[0].strip()\n",
    "        key21 = key2[1].strip()\n",
    "        if key20 in dict1.keys() and key21 in dict1.keys():\n",
    "             if float(dict2[key2][0])>0:#порог на MI\n",
    "                dict3[(key20,key21)].append(dict2[key2][0])\n",
    "    vert = list(dict1.keys())\n",
    "    beta = list(dict1.values())\n",
    "    false_ed = []\n",
    "    ed = list(dict3.keys())\n",
    "    for i in range(len(ed)):\n",
    "        false_ed.append([ed[i][0], ed[i][1]])\n",
    "    graph = []\n",
    "    for i in range(len(vert)):\n",
    "        for j in range(i + 1, len(vert)):\n",
    "            if [vert[i], vert[j]] not in false_ed and [vert[j], vert[i]]  not in false_ed:\n",
    "                graph.append([vert[i], vert[j]])\n",
    "    G = nx.Graph()\n",
    "    for key2 in dict1:\n",
    "        G.add_node(str(key2),  weight=float(dict1[key2][0]))\n",
    "    for key in graph:\n",
    "        G.add_edge(str(key[0]), str(key[1]))\n",
    "        \n",
    "    cliques = []\n",
    "    for i in range(1000):\n",
    "        for k in range(3, 10):\n",
    "            subgraph = sample(list(G.nodes), k)\n",
    "            try:\n",
    "                a = list(nx.find_cliques(G, subgraph))\n",
    "                cliques.append(subgraph)\n",
    "            except ValueError:\n",
    "                pass\n",
    "    cl = []\n",
    "    weights = []\n",
    "    for clique in cliques:\n",
    "        if type(clique[0]) == str:\n",
    "            weights.append(graph_value(vert, clique, beta, 0.62))\n",
    "            cl.append(clique)\n",
    "        else:\n",
    "             for i in clique:\n",
    "                weights.append(graph_value(vert, i, beta, 0.62))\n",
    "                cl.append(i)\n",
    "    return cl[weights.index(max(weights))]\n"
   ]
  },
  {
   "cell_type": "code",
   "execution_count": 14,
   "id": "830685c1",
   "metadata": {},
   "outputs": [
    {
     "data": {
      "text/plain": [
       "['chr_19:37036197',\n",
       " 'chr_18:2886428',\n",
       " 'chr_19:37062741',\n",
       " 'chr_19:36853376',\n",
       " 'chr_18:2841589',\n",
       " 'chr_19:34599708',\n",
       " 'chr_19:36856526',\n",
       " 'chr_13:21758530',\n",
       " 'chr_02:5022182']"
      ]
     },
     "execution_count": 14,
     "metadata": {},
     "output_type": "execute_result"
    }
   ],
   "source": [
    "best_clique(\"significant_snps.txt\", \"soyabean_midesp_out.epi\", 0.24)"
   ]
  },
  {
   "cell_type": "code",
   "execution_count": null,
   "id": "c3ef4197",
   "metadata": {},
   "outputs": [],
   "source": []
  }
 ],
 "metadata": {
  "kernelspec": {
   "display_name": "Python 3",
   "language": "python",
   "name": "python3"
  },
  "language_info": {
   "codemirror_mode": {
    "name": "ipython",
    "version": 3
   },
   "file_extension": ".py",
   "mimetype": "text/x-python",
   "name": "python",
   "nbconvert_exporter": "python",
   "pygments_lexer": "ipython3",
   "version": "3.8.5"
  }
 },
 "nbformat": 4,
 "nbformat_minor": 5
}
